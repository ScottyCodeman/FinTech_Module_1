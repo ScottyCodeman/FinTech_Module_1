{
 "cells": [
  {
   "cell_type": "markdown",
   "id": "78121a89-7bf7-4c7f-9983-caedfaf48fdb",
   "metadata": {},
   "source": [
    "# References"
   ]
  },
  {
   "cell_type": "markdown",
   "id": "b5e07d4d-00d1-4185-8af9-30b90cd2c7fa",
   "metadata": {},
   "source": [
    "## Title"
   ]
  },
  {
   "cell_type": "markdown",
   "id": "10e31fe2-e44d-4293-b6a0-49324e0ed09b",
   "metadata": {},
   "source": [
    "* https://www.crunchbase.com/organization/borrowell/company_financials\n",
    "* https://smith.queensu.ca/magazine/issues/summer-2018/profiles/helping-canadians-borrow-well.php#:~:text=Where%20did%20the%20idea%20for,product%20outside%20of%20the%20banks."
   ]
  },
  {
   "cell_type": "markdown",
   "id": "9482d5d4-aca1-4f8e-b7ed-01fb85aa6d01",
   "metadata": {},
   "source": [
    "## Buisness Activities"
   ]
  },
  {
   "cell_type": "markdown",
   "id": "65d674d1-7d6f-4aee-b158-dea83cee9ef7",
   "metadata": {},
   "source": [
    "* https://borrowell.com/\n",
    "* https://www.similarweb.com/website/borrowell.com/#geography\n",
    "* https://stackshare.io/borrowell/borrowell"
   ]
  },
  {
   "cell_type": "markdown",
   "id": "0c87575b-d9e4-47ee-a512-37d0473d6622",
   "metadata": {},
   "source": [
    "## Landscape"
   ]
  },
  {
   "cell_type": "markdown",
   "id": "4a1d1a1b-a29a-4f23-bb22-9c337777c80c",
   "metadata": {},
   "source": [
    "* https://www.nb.com/en/global/08-18-28/four-trends-for-the-next-ten-years"
   ]
  },
  {
   "cell_type": "markdown",
   "id": "40ac5db0-a700-4138-9eab-f0f67959de6f",
   "metadata": {},
   "source": [
    "## Results"
   ]
  },
  {
   "cell_type": "markdown",
   "id": "22312cc0-eeca-4531-842e-fa5107f28bd7",
   "metadata": {},
   "source": [
    "* https://borrowell.com/blog/top-5-reasons-why-canadian-small-businesses-are-important\n",
    "* https://www.finrofca.com/news/valuing-fintech-startups-methods-factors-and-metrics-to-consider#:~:text=Furthermore%2C%20assessing%20key%20metrics%20such,financial%20health%20and%20growth%20potential.\n",
    "* https://www.zoominfo.com/c/borrowell-inc/368373141\n",
    "* https://www.similarweb.com/website/borrowell.com/#overview"
   ]
  },
  {
   "cell_type": "markdown",
   "id": "bc4d7e46-8f99-4b21-ad9e-1f211d7db69d",
   "metadata": {},
   "source": [
    "## Reccomendations"
   ]
  }
 ],
 "metadata": {
  "kernelspec": {
   "display_name": "Python 3 (ipykernel)",
   "language": "python",
   "name": "python3"
  },
  "language_info": {
   "codemirror_mode": {
    "name": "ipython",
    "version": 3
   },
   "file_extension": ".py",
   "mimetype": "text/x-python",
   "name": "python",
   "nbconvert_exporter": "python",
   "pygments_lexer": "ipython3",
   "version": "3.10.9"
  }
 },
 "nbformat": 4,
 "nbformat_minor": 5
}
